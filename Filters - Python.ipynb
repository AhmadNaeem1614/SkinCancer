{
 "cells": [
  {
   "cell_type": "code",
   "execution_count": null,
   "metadata": {},
   "outputs": [],
   "source": [
    "import numpy as np\n",
    "import matplotlib.pyplot as plt\n",
    "from skimage import data, img_as_float\n",
    "from skimage.filters import denoise_tv_bregman\n",
    "\n",
    "# Load an sample image (replace this with your own image)\n",
    "image = img_as_float(data.camera())\n",
    "\n",
    "# Remove the random noise from the image\n",
    "np.random.seed(0)\n",
    "image += np.random.normal(0, 0.1, image.shape)\n",
    "\n",
    "# Apply MADF (Total Variation denoising)\n",
    "denoised_image = denoise_tv_bregman(image, 0.1)\n",
    "\n",
    "# Display the original and denoised images\n",
    "plt.figure(figsize=(8, 4))\n",
    "\n",
    "plt.subplot(1, 2, 1)\n",
    "plt.imshow(image, cmap='gray')\n",
    "plt.title('Noisy Image')\n",
    "\n",
    "plt.subplot(1, 2, 2)\n",
    "plt.imshow(denoised_image, cmap='gray')\n",
    "plt.title('Denoised Image')\n",
    "\n",
    "plt.show()\n"
   ]
  }
 ],
 "metadata": {
  "kernelspec": {
   "display_name": "Python 3",
   "language": "python",
   "name": "python3"
  },
  "language_info": {
   "codemirror_mode": {
    "name": "ipython",
    "version": 3
   },
   "file_extension": ".py",
   "mimetype": "text/x-python",
   "name": "python",
   "nbconvert_exporter": "python",
   "pygments_lexer": "ipython3",
   "version": "3.6.5"
  }
 },
 "nbformat": 4,
 "nbformat_minor": 2
}
